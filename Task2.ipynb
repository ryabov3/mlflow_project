{
 "cells": [
  {
   "cell_type": "markdown",
   "id": "f54354fb-5266-4227-b5b7-e3e417e61e8a",
   "metadata": {},
   "source": [
    "### Реквизиты автора: Рябов Михаил Сергеевич"
   ]
  },
  {
   "cell_type": "code",
   "execution_count": 44,
   "id": "d7c939b9-cedb-4d70-b649-3a527413e6f3",
   "metadata": {},
   "outputs": [],
   "source": [
    "import pandas as pd\n",
    "from sklearn.model_selection import train_test_split\n",
    "from sklearn.preprocessing import StandardScaler, OrdinalEncoder, OneHotEncoder, PowerTransformer\n",
    "from sklearn.pipeline import Pipeline\n",
    "from sklearn.compose import ColumnTransformer\n",
    "from sklearn.linear_model import SGDRegressor\n",
    "from sklearn.ensemble import RandomForestRegressor, GradientBoostingRegressor\n",
    "from sklearn.metrics import root_mean_squared_error\n",
    "import numpy as np\n",
    "import matplotlib.pyplot as plt\n",
    "import pickle\n",
    "import mlflow\n",
    "from sklearn.metrics import mean_absolute_error, mean_squared_error, r2_score\n",
    "from mlflow.models import infer_signature\n",
    "from sklearn.model_selection import GridSearchCV\n",
    "from multiprocessing import Process"
   ]
  },
  {
   "cell_type": "code",
   "execution_count": 46,
   "id": "a659454f-a5b9-4ea4-b49f-286654315678",
   "metadata": {},
   "outputs": [
    {
     "data": {
      "text/plain": [
       "<Experiment: artifact_location='mlflow-artifacts:/712008823741102884', creation_time=1743593768251, experiment_id='712008823741102884', last_update_time=1743593768251, lifecycle_stage='active', name='Student_models', tags={}>"
      ]
     },
     "execution_count": 46,
     "metadata": {},
     "output_type": "execute_result"
    }
   ],
   "source": [
    "# Настройка MLflow\n",
    "mlflow.set_tracking_uri(\"http://127.0.0.1:5000\")\n",
    "mlflow.set_experiment(\"Student_models\")"
   ]
  },
  {
   "cell_type": "code",
   "execution_count": 62,
   "id": "55d16d4f-4699-4501-a262-07a421de72d1",
   "metadata": {},
   "outputs": [],
   "source": [
    "def load_and_preprocess_data(filepath):\n",
    "    df = pd.read_csv(filepath)\n",
    "    \n",
    "    df['Extracurricular Activities'] = df['Extracurricular Activities'].map({'Yes': 1, 'No': 0})\n",
    "    \n",
    "    df = df[(df['Hours Studied'] <= 24) & \n",
    "            (df['Sleep Hours'] >= 4) & \n",
    "            (df['Previous Scores'] >= 40)]\n",
    "    \n",
    "    return df\n",
    "\n",
    "def prepare_data(df):\n",
    "    X = df.drop(columns=['Performance Index'])\n",
    "    y = df['Performance Index']\n",
    "    \n",
    "    X_train, X_val, y_train, y_val = train_test_split(\n",
    "        X, y, test_size=0.2, random_state=42\n",
    "    )\n",
    "    return X_train, X_val, y_train, y_val"
   ]
  },
  {
   "cell_type": "code",
   "execution_count": 60,
   "id": "c4a91624-2fa3-4270-be0e-59a1a7c87450",
   "metadata": {},
   "outputs": [],
   "source": [
    "def eval_metrics(actual, pred):\n",
    "    rmse = np.sqrt(mean_squared_error(actual, pred))\n",
    "    mae = mean_absolute_error(actual, pred)\n",
    "    r2 = r2_score(actual, pred)\n",
    "    return rmse, mae, r2"
   ]
  },
  {
   "cell_type": "code",
   "execution_count": 52,
   "id": "95632635-aaa4-4b0c-a194-0b6bc28fec9e",
   "metadata": {},
   "outputs": [],
   "source": [
    "def create_preprocessor():\n",
    "    numeric_features = ['Hours Studied', 'Previous Scores', \n",
    "                      'Sleep Hours', 'Sample Question Papers Practiced',\n",
    "                      'Extracurricular Activities']\n",
    "    \n",
    "    preprocessor = Pipeline(\n",
    "        steps=[('scaler', StandardScaler())]\n",
    "    )\n",
    "    return preprocessor"
   ]
  },
  {
   "cell_type": "code",
   "execution_count": 54,
   "id": "bd49e86d-ce31-4567-9fef-541ac108ebe4",
   "metadata": {},
   "outputs": [],
   "source": [
    "def train_and_log_model(model, params, model_name, X_train, y_train, X_val, y_val):\n",
    "    with mlflow.start_run(run_name=model_name):\n",
    "        preprocessor = create_preprocessor()\n",
    "        pipeline = Pipeline(steps=[\n",
    "            ('preprocessor', preprocessor),\n",
    "            ('model', model)\n",
    "        ])\n",
    "        \n",
    "        if params:\n",
    "            mlflow.log_params({\n",
    "                \"grid_search_params\": str(params)\n",
    "            })\n",
    "            \n",
    "            clf = GridSearchCV(pipeline, params, cv=5, scoring='r2')\n",
    "            clf.fit(X_train, y_train)\n",
    "            best_model = clf.best_estimator_\n",
    "            \n",
    "            best_params = {\"best_\" + k: v for k, v in clf.best_params_.items()}\n",
    "            mlflow.log_params(best_params)\n",
    "        else:\n",
    "            pipeline.fit(X_train, y_train)\n",
    "            best_model = pipeline\n",
    "        \n",
    "        y_pred = best_model.predict(X_val)\n",
    "        rmse, mae, r2 = eval_metrics(y_val, y_pred)\n",
    "        \n",
    "        mlflow.log_metrics({\n",
    "            \"rmse\": rmse,\n",
    "            \"mae\": mae,\n",
    "            \"r2\": r2\n",
    "        })\n",
    "        \n",
    "        signature = infer_signature(X_train, best_model.predict(X_train))\n",
    "        mlflow.sklearn.log_model(best_model, model_name, signature=signature)\n",
    "        \n",
    "        return rmse, mae, r2"
   ]
  },
  {
   "cell_type": "code",
   "execution_count": 56,
   "id": "93a7571d-8982-41aa-9e26-6e09583b6a15",
   "metadata": {},
   "outputs": [
    {
     "name": "stderr",
     "output_type": "stream",
     "text": [
      "C:\\anaconda3\\Lib\\site-packages\\mlflow\\types\\utils.py:452: UserWarning: Hint: Inferred schema contains integer column(s). Integer columns in Python cannot represent missing values. If your input data contains missing values at inference time, it will be encoded as floats and will cause a schema enforcement error. The best way to avoid this problem is to infer the model schema based on a realistic data sample (training dataset) that includes missing values. Alternatively, you can declare integer columns as doubles (float64) whenever these columns may have missing values. See `Handling Integers With Missing Values <https://www.mlflow.org/docs/latest/models.html#handling-integers-with-missing-values>`_ for more details.\n",
      "  warnings.warn(\n"
     ]
    },
    {
     "name": "stdout",
     "output_type": "stream",
     "text": [
      "🏃 View run SGD_Regressor at: http://127.0.0.1:5000/#/experiments/712008823741102884/runs/a14e393c5c974e9fac91e292b4660a53\n",
      "🧪 View experiment at: http://127.0.0.1:5000/#/experiments/712008823741102884\n"
     ]
    },
    {
     "name": "stderr",
     "output_type": "stream",
     "text": [
      "C:\\anaconda3\\Lib\\site-packages\\mlflow\\types\\utils.py:452: UserWarning: Hint: Inferred schema contains integer column(s). Integer columns in Python cannot represent missing values. If your input data contains missing values at inference time, it will be encoded as floats and will cause a schema enforcement error. The best way to avoid this problem is to infer the model schema based on a realistic data sample (training dataset) that includes missing values. Alternatively, you can declare integer columns as doubles (float64) whenever these columns may have missing values. See `Handling Integers With Missing Values <https://www.mlflow.org/docs/latest/models.html#handling-integers-with-missing-values>`_ for more details.\n",
      "  warnings.warn(\n"
     ]
    },
    {
     "name": "stdout",
     "output_type": "stream",
     "text": [
      "🏃 View run Random_Forest at: http://127.0.0.1:5000/#/experiments/712008823741102884/runs/82663077f3524079af4a73ecf08c3969\n",
      "🧪 View experiment at: http://127.0.0.1:5000/#/experiments/712008823741102884\n"
     ]
    },
    {
     "name": "stderr",
     "output_type": "stream",
     "text": [
      "C:\\anaconda3\\Lib\\site-packages\\mlflow\\types\\utils.py:452: UserWarning: Hint: Inferred schema contains integer column(s). Integer columns in Python cannot represent missing values. If your input data contains missing values at inference time, it will be encoded as floats and will cause a schema enforcement error. The best way to avoid this problem is to infer the model schema based on a realistic data sample (training dataset) that includes missing values. Alternatively, you can declare integer columns as doubles (float64) whenever these columns may have missing values. See `Handling Integers With Missing Values <https://www.mlflow.org/docs/latest/models.html#handling-integers-with-missing-values>`_ for more details.\n",
      "  warnings.warn(\n"
     ]
    },
    {
     "name": "stdout",
     "output_type": "stream",
     "text": [
      "🏃 View run Gradient_Boosting at: http://127.0.0.1:5000/#/experiments/712008823741102884/runs/fdb99fa7cd8d44d5a13d9c194dbfeb3e\n",
      "🧪 View experiment at: http://127.0.0.1:5000/#/experiments/712008823741102884\n",
      "\n",
      "Сравнение моделей:\n",
      "\n",
      "SGD_Regressor:\n",
      "rmse: 2.0213\n",
      "mae: 1.6115\n",
      "r2: 0.9890\n",
      "\n",
      "Random_Forest:\n",
      "rmse: 2.1692\n",
      "mae: 1.7276\n",
      "r2: 0.9873\n",
      "\n",
      "Gradient_Boosting:\n",
      "rmse: 2.0892\n",
      "mae: 1.6578\n",
      "r2: 0.9882\n",
      "\n",
      "Лучшая модель: SGD_Regressor по R2 - 0.9890\n"
     ]
    }
   ],
   "source": [
    "# Датасеет: https://www.kaggle.com/datasets/nikhil7280/student-performance-multiple-linear-regression\n",
    "# Загрузка датасета и начало работы\n",
    "df = load_and_preprocess_data(\"Student_Performance.csv\")\n",
    "X_train, X_val, y_train, y_val = prepare_data(df)\n",
    "\n",
    "# SGDRegressor\n",
    "sgd_params = {\n",
    "    'model__alpha': [0.0001, 0.001, 0.01],\n",
    "    'model__l1_ratio': [0.15, 0.2, 0.25],\n",
    "    'model__max_iter': [1000, 2000]\n",
    "}\n",
    "sgd_metrics = train_and_log_model(\n",
    "    SGDRegressor(random_state=42),\n",
    "    sgd_params,\n",
    "    \"SGD_Regressor\",\n",
    "    X_train, y_train, X_val, y_val\n",
    ")\n",
    "\n",
    "# RandomForest\n",
    "rf_params = {\n",
    "    'model__n_estimators': [50, 100],\n",
    "    'model__max_depth': [5, 10, None],\n",
    "    'model__min_samples_split': [2, 5]\n",
    "}\n",
    "rf_metrics = train_and_log_model(\n",
    "    RandomForestRegressor(random_state=42),\n",
    "    rf_params,\n",
    "    \"Random_Forest\",\n",
    "    X_train, y_train, X_val, y_val\n",
    ")\n",
    "\n",
    "# GradientBoosting\n",
    "gb_params = {\n",
    "    'model__n_estimators': [50, 100],\n",
    "    'model__learning_rate': [0.05, 0.1],\n",
    "    'model__max_depth': [3, 5]\n",
    "}\n",
    "gb_metrics = train_and_log_model(\n",
    "    GradientBoostingRegressor(random_state=42),\n",
    "    gb_params,\n",
    "    \"Gradient_Boosting\",\n",
    "    X_train, y_train, X_val, y_val\n",
    ")\n",
    "\n",
    "# Сравнение результатов\n",
    "results = {\n",
    "    \"SGD_Regressor\": dict(zip([\"rmse\", \"mae\", \"r2\"], sgd_metrics)),\n",
    "    \"Random_Forest\": dict(zip([\"rmse\", \"mae\", \"r2\"], rf_metrics)),\n",
    "    \"Gradient_Boosting\": dict(zip([\"rmse\", \"mae\", \"r2\"], gb_metrics))\n",
    "}\n",
    "\n",
    "print(\"\\nСравнение моделей:\")\n",
    "for model, metrics in results.items():\n",
    "    print(f\"\\n{model}:\")\n",
    "    for metric, value in metrics.items():\n",
    "        print(f\"{metric}: {value:.4f}\")\n",
    "\n",
    "best_model = max(results.items(), key=lambda x: x[1][\"r2\"])\n",
    "print(f\"\\nЛучшая модель: {best_model[0]} по R2 - {best_model[1]['r2']:.4f}\")"
   ]
  },
  {
   "cell_type": "code",
   "execution_count": null,
   "id": "6e8daf8c-97bc-4e15-942a-f0a4034e977b",
   "metadata": {},
   "outputs": [],
   "source": []
  }
 ],
 "metadata": {
  "kernelspec": {
   "display_name": "Python 3 (ipykernel)",
   "language": "python",
   "name": "python3"
  },
  "language_info": {
   "codemirror_mode": {
    "name": "ipython",
    "version": 3
   },
   "file_extension": ".py",
   "mimetype": "text/x-python",
   "name": "python",
   "nbconvert_exporter": "python",
   "pygments_lexer": "ipython3",
   "version": "3.12.7"
  }
 },
 "nbformat": 4,
 "nbformat_minor": 5
}
